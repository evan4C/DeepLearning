{
 "cells": [
  {
   "cell_type": "code",
   "execution_count": 1,
   "metadata": {},
   "outputs": [],
   "source": [
    "import numpy as np\n",
    "import matplotlib.pyplot as plt\n",
    "import matplotlib\n",
    "%matplotlib inline"
   ]
  },
  {
   "cell_type": "code",
   "execution_count": 2,
   "metadata": {},
   "outputs": [
    {
     "data": {
      "text/plain": [
       "((50000, 8, 8), (50000, 3, 4))"
      ]
     },
     "execution_count": 2,
     "metadata": {},
     "output_type": "execute_result"
    }
   ],
   "source": [
    "num_imgs = 50000\n",
    "\n",
    "img_size = 8\n",
    "min_rect_size = 1\n",
    "max_rect_size = 4\n",
    "num_objects = 3\n",
    "\n",
    "bboxes = np.zeros((num_imgs, num_objects, 4))\n",
    "imgs = np.zeros((num_imgs, img_size, img_size))\n",
    "\n",
    "for i_img in range(num_imgs):\n",
    "    for i_object in range(num_objects):\n",
    "        width, height = np.random.randint(min_rect_size, max_rect_size, size=2)\n",
    "        x = np.random.randint(0, img_size - width)\n",
    "        y = np.random.randint(0, img_size - height)\n",
    "        imgs[i_img, x:x+width, y:y+height] = 1.\n",
    "        bboxes[i_img, i_object] = [x, y, width, height]\n",
    "\n",
    "imgs.shape, bboxes.shape"
   ]
  },
  {
   "cell_type": "code",
   "execution_count": 5,
   "metadata": {},
   "outputs": [
    {
     "data": {
      "image/png": "[encoded data removed]",
      "text/plain": [
       "<Figure size 432x288 with 1 Axes>"
      ]
     },
     "metadata": {
      "needs_background": "light"
     },
     "output_type": "display_data"
    }
   ],
   "source": [
    "i = 20\n",
    "plt.imshow(imgs[i].T, cmap='Greys', interpolation='none', origin='lower', \n",
    "           extent=[0, img_size, 0, img_size])\n",
    "\n",
    "for bbox in bboxes[i]:\n",
    "    plt.gca().add_patch(matplotlib.patches.Rectangle((bbox[0], bbox[1]), bbox[2],\n",
    "                                                    bbox[3], ec='r', fc='none'))"
   ]
  },
  {
   "cell_type": "code",
   "execution_count": 6,
   "metadata": {},
   "outputs": [
    {
     "data": {
      "text/plain": [
       "((50000, 64), 6.508571459562518e-17, 1.0)"
      ]
     },
     "execution_count": 6,
     "metadata": {},
     "output_type": "execute_result"
    }
   ],
   "source": [
    "X = (imgs.reshape(num_imgs, -1) - np.mean(imgs)) / np.std(imgs)\n",
    "X.shape, np.mean(X), np.std(X)"
   ]
  },
  {
   "cell_type": "code",
   "execution_count": 7,
   "metadata": {},
   "outputs": [
    {
     "data": {
      "text/plain": [
       "(50000, 12)"
      ]
     },
     "execution_count": 7,
     "metadata": {},
     "output_type": "execute_result"
    }
   ],
   "source": [
    "y = bboxes.reshape(num_imgs, -1) / img_size\n",
    "y.shape"
   ]
  },
  {
   "cell_type": "code",
   "execution_count": 8,
   "metadata": {},
   "outputs": [],
   "source": [
    "i = int(0.8 * num_imgs)\n",
    "train_x = X[:i]\n",
    "test_x = X[i:]\n",
    "train_y = y[:i]\n",
    "test_y = y[i:]\n",
    "\n",
    "test_imgs = imgs[i:]\n",
    "test_bboxes = bboxes[i:]"
   ]
  },
  {
   "cell_type": "code",
   "execution_count": 9,
   "metadata": {},
   "outputs": [],
   "source": [
    "from keras.models import Sequential\n",
    "from keras.layers import Dense, Activation, Dropout\n",
    "from keras.optimizers import SGD\n",
    "model = Sequential([\n",
    "        Dense(256, input_dim=X.shape[-1]), \n",
    "        Activation('relu'), \n",
    "        Dropout(0.4), \n",
    "        Dense(y.shape[-1])\n",
    "    ])\n",
    "model.compile('adadelta', 'mse')"
   ]
  },
  {
   "cell_type": "code",
   "execution_count": 10,
   "metadata": {},
   "outputs": [
    {
     "name": "stdout",
     "output_type": "stream",
     "text": [
      "Epoch 0\n",
      "1250/1250 - 1s - loss: 0.6392 - val_loss: 0.3435\n",
      "Flipped 66.8325 % of all elements\n",
      "Mean IOU: 0.00747168910332274\n",
      "Mean dist: 0.6982997737996681\n",
      "Mean mse: 0.3139095223651655\n",
      "\n",
      "Epoch 1\n",
      "1250/1250 - 1s - loss: 0.5244 - val_loss: 0.2788\n",
      "Flipped 12.568333333333333 % of all elements\n",
      "Mean IOU: 0.01087175114132516\n",
      "Mean dist: 0.6320558517933458\n",
      "Mean mse: 0.25156252573252363\n",
      "\n",
      "Epoch 2\n",
      "1250/1250 - 1s - loss: 0.4638 - val_loss: 0.2361\n",
      "Flipped 11.8125 % of all elements\n",
      "Mean IOU: 0.014449519571808338\n",
      "Mean dist: 0.5823979672678445\n",
      "Mean mse: 0.21036068188778312\n",
      "\n",
      "Epoch 3\n",
      "1250/1250 - 1s - loss: 0.4245 - val_loss: 0.2076\n",
      "Flipped 10.5075 % of all elements\n",
      "Mean IOU: 0.018007382140487617\n",
      "Mean dist: 0.5452876082915377\n",
      "Mean mse: 0.18304356910637198\n",
      "\n",
      "Epoch 4\n",
      "1250/1250 - 1s - loss: 0.3951 - val_loss: 0.1876\n",
      "Flipped 8.455833333333334 % of all elements\n",
      "Mean IOU: 0.021398819149667115\n",
      "Mean dist: 0.516583649264049\n",
      "Mean mse: 0.16368790942767714\n",
      "\n",
      "Epoch 5\n",
      "1250/1250 - 1s - loss: 0.3717 - val_loss: 0.1726\n",
      "Flipped 7.015833333333335 % of all elements\n",
      "Mean IOU: 0.02425757773205686\n",
      "Mean dist: 0.4938418614992117\n",
      "Mean mse: 0.14940059103121686\n",
      "\n",
      "Epoch 6\n",
      "1250/1250 - 1s - loss: 0.3516 - val_loss: 0.1608\n",
      "Flipped 5.955000000000001 % of all elements\n",
      "Mean IOU: 0.027091023111454615\n",
      "Mean dist: 0.4746879176920622\n",
      "Mean mse: 0.1380893768808267\n",
      "\n",
      "Epoch 7\n",
      "1250/1250 - 1s - loss: 0.3343 - val_loss: 0.1510\n",
      "Flipped 4.666666666666668 % of all elements\n",
      "Mean IOU: 0.0295857619179876\n",
      "Mean dist: 0.4582055158041594\n",
      "Mean mse: 0.12879016457304057\n",
      "\n",
      "Epoch 8\n",
      "1250/1250 - 1s - loss: 0.3212 - val_loss: 0.1426\n",
      "Flipped 4.168333333333334 % of all elements\n",
      "Mean IOU: 0.03198598117783219\n",
      "Mean dist: 0.4436064330606605\n",
      "Mean mse: 0.1208063483154806\n",
      "\n",
      "Epoch 9\n",
      "1250/1250 - 1s - loss: 0.3067 - val_loss: 0.1351\n",
      "Flipped 3.746666666666667 % of all elements\n",
      "Mean IOU: 0.03429098190613087\n",
      "Mean dist: 0.4303518284388598\n",
      "Mean mse: 0.11380556285405774\n",
      "\n",
      "Epoch 10\n",
      "1250/1250 - 1s - loss: 0.2936 - val_loss: 0.1286\n",
      "Flipped 3.3133333333333335 % of all elements\n",
      "Mean IOU: 0.03667327684424608\n",
      "Mean dist: 0.4184894482768429\n",
      "Mean mse: 0.10772802509728788\n",
      "\n",
      "Epoch 11\n",
      "1250/1250 - 1s - loss: 0.2828 - val_loss: 0.1227\n",
      "Flipped 3.145833333333333 % of all elements\n",
      "Mean IOU: 0.0389529286021067\n",
      "Mean dist: 0.40742580246654897\n",
      "Mean mse: 0.1022453499447523\n",
      "\n",
      "Epoch 12\n",
      "1250/1250 - 1s - loss: 0.2734 - val_loss: 0.1174\n",
      "Flipped 2.9058333333333337 % of all elements\n",
      "Mean IOU: 0.04106364697266466\n",
      "Mean dist: 0.3972293319719\n",
      "Mean mse: 0.09733396904255112\n",
      "\n",
      "Epoch 13\n",
      "1250/1250 - 1s - loss: 0.2614 - val_loss: 0.1126\n",
      "Flipped 2.9341666666666675 % of all elements\n",
      "Mean IOU: 0.04318070941200448\n",
      "Mean dist: 0.3879482846517405\n",
      "Mean mse: 0.09292593833950909\n",
      "\n",
      "Epoch 14\n",
      "1250/1250 - 1s - loss: 0.2520 - val_loss: 0.1082\n",
      "Flipped 2.8375 % of all elements\n",
      "Mean IOU: 0.04530913968758823\n",
      "Mean dist: 0.3792488750625908\n",
      "Mean mse: 0.08887660597004626\n",
      "\n",
      "Epoch 15\n",
      "1250/1250 - 1s - loss: 0.2428 - val_loss: 0.1042\n",
      "Flipped 2.776666666666667 % of all elements\n",
      "Mean IOU: 0.04755322843753692\n",
      "Mean dist: 0.3710313817305322\n",
      "Mean mse: 0.08517070451266096\n",
      "\n",
      "Epoch 16\n",
      "1250/1250 - 1s - loss: 0.2349 - val_loss: 0.1004\n",
      "Flipped 2.666666666666667 % of all elements\n",
      "Mean IOU: 0.04974164696257476\n",
      "Mean dist: 0.36361302387532063\n",
      "Mean mse: 0.08182142108520064\n",
      "\n",
      "Epoch 17\n",
      "1250/1250 - 1s - loss: 0.2268 - val_loss: 0.0970\n",
      "Flipped 2.665 % of all elements\n",
      "Mean IOU: 0.05169384885600618\n",
      "Mean dist: 0.3565580763341561\n",
      "Mean mse: 0.07869743188834828\n",
      "\n",
      "Epoch 18\n",
      "1250/1250 - 1s - loss: 0.2196 - val_loss: 0.0938\n",
      "Flipped 2.4408333333333334 % of all elements\n",
      "Mean IOU: 0.05375896635251834\n",
      "Mean dist: 0.35002316624408597\n",
      "Mean mse: 0.07583636111794935\n",
      "\n",
      "Epoch 19\n",
      "1250/1250 - 1s - loss: 0.2116 - val_loss: 0.0909\n",
      "Flipped 2.526666666666667 % of all elements\n",
      "Mean IOU: 0.05565552304280909\n",
      "Mean dist: 0.3438803172354927\n",
      "Mean mse: 0.073145764300844\n",
      "\n",
      "Epoch 20\n",
      "1250/1250 - 1s - loss: 0.2042 - val_loss: 0.0882\n",
      "Flipped 2.451666666666667 % of all elements\n",
      "Mean IOU: 0.057628544572694465\n",
      "Mean dist: 0.3382117231236544\n",
      "Mean mse: 0.07071952502680177\n",
      "\n",
      "Epoch 21\n",
      "1250/1250 - 1s - loss: 0.1988 - val_loss: 0.0856\n",
      "Flipped 2.254166666666667 % of all elements\n",
      "Mean IOU: 0.05948595508965121\n",
      "Mean dist: 0.3328114426365676\n",
      "Mean mse: 0.06844867345338755\n",
      "\n",
      "Epoch 22\n",
      "1250/1250 - 1s - loss: 0.1921 - val_loss: 0.0833\n",
      "Flipped 2.325 % of all elements\n",
      "Mean IOU: 0.06130064469560234\n",
      "Mean dist: 0.32791992159045424\n",
      "Mean mse: 0.0664063289194606\n",
      "\n",
      "Epoch 23\n",
      "1250/1250 - 1s - loss: 0.1863 - val_loss: 0.0810\n",
      "Flipped 2.165 % of all elements\n",
      "Mean IOU: 0.06317322872666904\n",
      "Mean dist: 0.32312233379143396\n",
      "Mean mse: 0.06444261970872792\n",
      "\n",
      "Epoch 24\n",
      "1250/1250 - 1s - loss: 0.1803 - val_loss: 0.0789\n",
      "Flipped 2.191666666666667 % of all elements\n",
      "Mean IOU: 0.06505141420128846\n",
      "Mean dist: 0.31862452885677495\n",
      "Mean mse: 0.06257367654775375\n",
      "\n",
      "Epoch 25\n",
      "1250/1250 - 1s - loss: 0.1757 - val_loss: 0.0769\n",
      "Flipped 2.2008333333333336 % of all elements\n",
      "Mean IOU: 0.06692092159720546\n",
      "Mean dist: 0.31434359769534365\n",
      "Mean mse: 0.06081023330741085\n",
      "\n",
      "Epoch 26\n",
      "1250/1250 - 1s - loss: 0.1700 - val_loss: 0.0751\n",
      "Flipped 2.1075000000000004 % of all elements\n",
      "Mean IOU: 0.06852605450262825\n",
      "Mean dist: 0.3103438075483532\n",
      "Mean mse: 0.05919588602385336\n",
      "\n",
      "Epoch 27\n",
      "1250/1250 - 1s - loss: 0.1651 - val_loss: 0.0733\n",
      "Flipped 2.0366666666666666 % of all elements\n",
      "Mean IOU: 0.07031725163544084\n",
      "Mean dist: 0.3065721076457776\n",
      "Mean mse: 0.057668612594790135\n",
      "\n",
      "Epoch 28\n",
      "1250/1250 - 1s - loss: 0.1600 - val_loss: 0.0717\n",
      "Flipped 2.0358333333333336 % of all elements\n",
      "Mean IOU: 0.07188982792702105\n",
      "Mean dist: 0.30296157961429315\n",
      "Mean mse: 0.056209475885942495\n",
      "\n",
      "Epoch 29\n",
      "1250/1250 - 1s - loss: 0.1552 - val_loss: 0.0701\n",
      "Flipped 1.9025000000000003 % of all elements\n",
      "Mean IOU: 0.0736297490500419\n",
      "Mean dist: 0.2995338420610235\n",
      "Mean mse: 0.05484522232875947\n",
      "\n",
      "Epoch 30\n",
      "1250/1250 - 1s - loss: 0.1512 - val_loss: 0.0686\n",
      "Flipped 1.9924999999999997 % of all elements\n",
      "Mean IOU: 0.07532513985852513\n",
      "Mean dist: 0.2963606612142682\n",
      "Mean mse: 0.05357798567028463\n",
      "\n",
      "Epoch 31\n",
      "1250/1250 - 1s - loss: 0.1474 - val_loss: 0.0672\n",
      "Flipped 1.8399999999999999 % of all elements\n",
      "Mean IOU: 0.07693452159180478\n",
      "Mean dist: 0.29328156972277\n",
      "Mean mse: 0.05234397593118766\n",
      "\n",
      "Epoch 32\n",
      "1250/1250 - 1s - loss: 0.1422 - val_loss: 0.0659\n",
      "Flipped 1.9008333333333336 % of all elements\n",
      "Mean IOU: 0.07860828685346202\n",
      "Mean dist: 0.2903411535170395\n",
      "Mean mse: 0.05118720170233007\n",
      "\n",
      "Epoch 33\n",
      "1250/1250 - 1s - loss: 0.1391 - val_loss: 0.0646\n",
      "Flipped 1.8350000000000002 % of all elements\n",
      "Mean IOU: 0.0800779433002771\n",
      "Mean dist: 0.2875652373319424\n",
      "Mean mse: 0.050097496638367926\n",
      "\n",
      "Epoch 34\n",
      "1250/1250 - 1s - loss: 0.1351 - val_loss: 0.0634\n",
      "Flipped 1.821666666666667 % of all elements\n",
      "Mean IOU: 0.08154209657028323\n",
      "Mean dist: 0.28502751719704805\n",
      "Mean mse: 0.04907990873325821\n",
      "\n",
      "Epoch 35\n",
      "1250/1250 - 1s - loss: 0.1316 - val_loss: 0.0623\n",
      "Flipped 1.7341666666666664 % of all elements\n",
      "Mean IOU: 0.08293420579829583\n",
      "Mean dist: 0.28262682052662813\n",
      "Mean mse: 0.048103329054284404\n",
      "\n",
      "Epoch 36\n",
      "1250/1250 - 1s - loss: 0.1279 - val_loss: 0.0612\n",
      "Flipped 1.7933333333333337 % of all elements\n",
      "Mean IOU: 0.08439250301855172\n",
      "Mean dist: 0.2802868930113033\n",
      "Mean mse: 0.047157460754713484\n",
      "\n",
      "Epoch 37\n",
      "1250/1250 - 1s - loss: 0.1248 - val_loss: 0.0601\n",
      "Flipped 1.7883333333333336 % of all elements\n",
      "Mean IOU: 0.08592357107809089\n",
      "Mean dist: 0.2781050680077216\n",
      "Mean mse: 0.0462679808974149\n",
      "\n",
      "Epoch 38\n",
      "1250/1250 - 1s - loss: 0.1219 - val_loss: 0.0591\n",
      "Flipped 1.7058333333333335 % of all elements\n",
      "Mean IOU: 0.08718773692762075\n",
      "Mean dist: 0.27601824904577477\n",
      "Mean mse: 0.0454203143437492\n",
      "\n",
      "Epoch 39\n",
      "1250/1250 - 1s - loss: 0.1187 - val_loss: 0.0581\n",
      "Flipped 1.7183333333333335 % of all elements\n",
      "Mean IOU: 0.08866124353050268\n",
      "Mean dist: 0.2739166904842085\n",
      "Mean mse: 0.04459678101363113\n",
      "\n",
      "Epoch 40\n",
      "1250/1250 - 1s - loss: 0.1157 - val_loss: 0.0572\n",
      "Flipped 1.6250000000000004 % of all elements\n",
      "Mean IOU: 0.08982573836571253\n",
      "Mean dist: 0.2720604970820678\n",
      "Mean mse: 0.04383282271565727\n",
      "\n",
      "Epoch 41\n",
      "1250/1250 - 1s - loss: 0.1128 - val_loss: 0.0564\n",
      "Flipped 1.7149999999999999 % of all elements\n",
      "Mean IOU: 0.09111613759798042\n",
      "Mean dist: 0.2702161076933534\n",
      "Mean mse: 0.04308450105395532\n",
      "\n",
      "Epoch 42\n",
      "1250/1250 - 1s - loss: 0.1101 - val_loss: 0.0555\n",
      "Flipped 1.6525 % of all elements\n",
      "Mean IOU: 0.09226685017346378\n",
      "Mean dist: 0.26832533052179425\n",
      "Mean mse: 0.042363630795700206\n",
      "\n",
      "Epoch 43\n",
      "1250/1250 - 1s - loss: 0.1071 - val_loss: 0.0547\n",
      "Flipped 1.7125000000000001 % of all elements\n",
      "Mean IOU: 0.09348973119578009\n",
      "Mean dist: 0.26668204755570857\n",
      "Mean mse: 0.04168615371830133\n",
      "\n",
      "Epoch 44\n",
      "1250/1250 - 1s - loss: 0.1048 - val_loss: 0.0539\n",
      "Flipped 1.645 % of all elements\n",
      "Mean IOU: 0.09457239646722655\n",
      "Mean dist: 0.26511448925176084\n",
      "Mean mse: 0.0410518721761065\n",
      "\n",
      "Epoch 45\n",
      "1250/1250 - 1s - loss: 0.1025 - val_loss: 0.0532\n",
      "Flipped 1.6958333333333335 % of all elements\n",
      "Mean IOU: 0.09572356999154344\n",
      "Mean dist: 0.2634693546459271\n",
      "Mean mse: 0.040409891308594285\n",
      "\n",
      "Epoch 46\n",
      "1250/1250 - 1s - loss: 0.1004 - val_loss: 0.0525\n",
      "Flipped 1.6408333333333338 % of all elements\n",
      "Mean IOU: 0.0966829398418099\n",
      "Mean dist: 0.26205701826317623\n",
      "Mean mse: 0.039829470310765176\n",
      "\n",
      "Epoch 47\n",
      "1250/1250 - 1s - loss: 0.0979 - val_loss: 0.0518\n",
      "Flipped 1.5983333333333336 % of all elements\n",
      "Mean IOU: 0.09763040824768113\n",
      "Mean dist: 0.26066920409127486\n",
      "Mean mse: 0.03927056470596479\n",
      "\n",
      "Epoch 48\n",
      "1250/1250 - 1s - loss: 0.0955 - val_loss: 0.0511\n",
      "Flipped 1.5441666666666667 % of all elements\n",
      "Mean IOU: 0.09883554543654714\n",
      "Mean dist: 0.2593969713678063\n",
      "Mean mse: 0.03873620209199992\n",
      "\n",
      "Epoch 49\n",
      "1250/1250 - 1s - loss: 0.0937 - val_loss: 0.0505\n",
      "Flipped 1.5291666666666668 % of all elements\n",
      "Mean IOU: 0.09981832264821798\n",
      "Mean dist: 0.25818194405921363\n",
      "Mean mse: 0.03822214342639154\n",
      "\n"
     ]
    }
   ],
   "source": [
    "# Flip bboxes during training.\n",
    "\n",
    "def IOU(bbox1, bbox2):\n",
    "    '''Calculate overlap between two bounding boxes [x, y, w, h] as the area of intersection over the area of unity'''\n",
    "    x1, y1, w1, h1 = bbox1[0], bbox1[1], bbox1[2], bbox1[3]  # TODO: Check if its more performant if tensor elements are accessed directly below.\n",
    "    x2, y2, w2, h2 = bbox2[0], bbox2[1], bbox2[2], bbox2[3]\n",
    "\n",
    "    w_I = min(x1 + w1, x2 + w2) - max(x1, x2)\n",
    "    h_I = min(y1 + h1, y2 + h2) - max(y1, y2)\n",
    "    if w_I <= 0 or h_I <= 0:  # no overlap\n",
    "        return 0\n",
    "    I = w_I * h_I\n",
    "\n",
    "    U = w1 * h1 + w2 * h2 - I\n",
    "\n",
    "    return I / U\n",
    "\n",
    "def distance(bbox1, bbox2):\n",
    "    return np.sqrt(np.sum(np.square(bbox1[:2] - bbox2[:2])))\n",
    "\n",
    "num_epochs = 50\n",
    "flipped_train_y = np.array(train_y)\n",
    "flipped = np.zeros((len(flipped_train_y), num_epochs))\n",
    "ious_epoch = np.zeros((len(flipped_train_y), num_epochs))\n",
    "dists_epoch = np.zeros((len(flipped_train_y), num_epochs))\n",
    "mses_epoch = np.zeros((len(flipped_train_y), num_epochs))\n",
    "\n",
    "for epoch in range(num_epochs):\n",
    "    print ('Epoch', epoch)\n",
    "    model.fit(train_x, flipped_train_y, epochs=1, validation_data=(test_x, test_y), verbose=2)\n",
    "    pred_y = model.predict(train_x)\n",
    "\n",
    "    for sample, (pred_bboxes, exp_bboxes) in enumerate(zip(pred_y, flipped_train_y)):\n",
    "        \n",
    "        pred_bboxes = pred_bboxes.reshape(num_objects, -1)\n",
    "        exp_bboxes = exp_bboxes.reshape(num_objects, -1)\n",
    "\n",
    "        ious = np.zeros((num_objects, num_objects))\n",
    "        dists = np.zeros((num_objects, num_objects))\n",
    "        mses = np.zeros((num_objects, num_objects))\n",
    "        for i, exp_bbox in enumerate(exp_bboxes):\n",
    "            for j, pred_bbox in enumerate(pred_bboxes):\n",
    "                ious[i, j] = IOU(exp_bbox, pred_bbox)\n",
    "                dists[i, j] = distance(exp_bbox, pred_bbox)\n",
    "                mses[i, j] = np.mean(np.square(exp_bbox - pred_bbox))\n",
    "                \n",
    "        new_order = np.zeros(num_objects, dtype=int)\n",
    "        \n",
    "        for i in range(num_objects):\n",
    "            # Find pred and exp bbox with minimum mse and assign them to each other (i.e. switch the positions of the exp bboxes in y).\n",
    "            ind_exp_bbox, ind_pred_bbox = np.unravel_index(mses.argmin(), mses.shape)\n",
    "            ious_epoch[sample, epoch] += ious[ind_exp_bbox, ind_pred_bbox]\n",
    "            dists_epoch[sample, epoch] += dists[ind_exp_bbox, ind_pred_bbox]\n",
    "            mses_epoch[sample, epoch] += mses[ind_exp_bbox, ind_pred_bbox]\n",
    "            mses[ind_exp_bbox] = 10000000#-1  # set mse of assigned bboxes to a large number, so they don't get assigned again\n",
    "            mses[:, ind_pred_bbox] = 10000000#-1\n",
    "            new_order[ind_pred_bbox] = ind_exp_bbox\n",
    "        \n",
    "        # Write flipped bboxes to training data.\n",
    "        flipped_train_y[sample] = exp_bboxes[new_order].flatten()\n",
    "        \n",
    "        flipped[sample, epoch] = 1. - np.mean(new_order == np.arange(num_objects, dtype=int))#np.array_equal(new_order, np.arange(num_objects, dtype=int))  # TODO: Change this to reflect the number of flips.\n",
    "        ious_epoch[sample, epoch] /= num_objects\n",
    "        dists_epoch[sample, epoch] /= num_objects\n",
    "        mses_epoch[sample, epoch] /= num_objects\n",
    "        \n",
    "            \n",
    "    print ('Flipped {} % of all elements'.format(np.mean(flipped[:, epoch]) * 100.))\n",
    "    print ('Mean IOU: {}'.format(np.mean(ious_epoch[:, epoch])))\n",
    "    print ('Mean dist: {}'.format(np.mean(dists_epoch[:, epoch])))\n",
    "    print ('Mean mse: {}'.format(np.mean(mses_epoch[:, epoch])))\n",
    "    print ()"
   ]
  },
  {
   "cell_type": "code",
   "execution_count": 11,
   "metadata": {},
   "outputs": [
    {
     "data": {
      "text/plain": [
       "Text(0, 0.5, 'Training sample')"
      ]
     },
     "execution_count": 11,
     "metadata": {},
     "output_type": "execute_result"
    },
    {
     "data": {
      "image/png": "[encoded data removed]",
      "text/plain": [
       "<Figure size 432x288 with 1 Axes>"
      ]
     },
     "metadata": {
      "needs_background": "light"
     },
     "output_type": "display_data"
    }
   ],
   "source": [
    "# Show flippings for a few training samples.\n",
    "plt.pcolor(flipped[:300], cmap='Greys', vmax=1.)\n",
    "plt.xlabel('Epoch')\n",
    "plt.ylabel('Training sample')"
   ]
  },
  {
   "cell_type": "code",
   "execution_count": 12,
   "metadata": {},
   "outputs": [
    {
     "data": {
      "text/plain": [
       "(0.0, 1.0)"
      ]
     },
     "execution_count": 12,
     "metadata": {},
     "output_type": "execute_result"
    },
    {
     "data": {
      "image/png": "[encoded data removed]",
      "text/plain": [
       "<Figure size 432x288 with 1 Axes>"
      ]
     },
     "metadata": {
      "needs_background": "light"
     },
     "output_type": "display_data"
    }
   ],
   "source": [
    "# Plot metrics on the training data. \n",
    "mean_ious_epoch = np.mean(ious_epoch, axis=0)\n",
    "mean_dists_epoch = np.mean(dists_epoch, axis=0)\n",
    "mean_mses_epoch = np.mean(mses_epoch, axis=0)\n",
    "plt.plot(mean_ious_epoch, label='Mean IOU')  # between predicted and assigned true bboxes\n",
    "plt.plot(mean_dists_epoch, label='Mean distance')  # relative to image size\n",
    "plt.plot(mean_mses_epoch, label='Mean mse')\n",
    "plt.annotate(np.round(np.max(mean_ious_epoch), 3), (len(mean_ious_epoch)-1, mean_ious_epoch[-1]+0.03), horizontalalignment='right', color='b')\n",
    "plt.annotate(np.round(np.min(mean_dists_epoch), 3), (len(mean_dists_epoch)-1, mean_dists_epoch[-1]+0.03), horizontalalignment='right', color='g')\n",
    "plt.annotate(np.round(np.min(mean_mses_epoch), 3), (len(mean_mses_epoch)-1, mean_mses_epoch[-1]+0.03), horizontalalignment='right', color='r')\n",
    "plt.xlabel('Epoch')\n",
    "plt.legend()\n",
    "plt.ylim(0, 1)\n",
    "\n",
    "# plt.savefig('plots/bw-three-rectangles-50k.png', dpi=300)"
   ]
  },
  {
   "cell_type": "code",
   "execution_count": 13,
   "metadata": {},
   "outputs": [
    {
     "data": {
      "text/plain": [
       "(10000, 3, 4)"
      ]
     },
     "execution_count": 13,
     "metadata": {},
     "output_type": "execute_result"
    }
   ],
   "source": [
    "pred_y = model.predict(test_x)\n",
    "pred_bboxes = pred_y * img_size\n",
    "pred_bboxes = pred_bboxes.reshape(len(pred_bboxes), num_objects, -1)\n",
    "pred_bboxes.shape"
   ]
  },
  {
   "cell_type": "code",
   "execution_count": 14,
   "metadata": {},
   "outputs": [
    {
     "data": {
      "image/png": "[encoded data removed]",
      "text/plain": [
       "<Figure size 864x216 with 4 Axes>"
      ]
     },
     "metadata": {
      "needs_background": "light"
     },
     "output_type": "display_data"
    }
   ],
   "source": [
    "plt.figure(figsize=(12, 3))\n",
    "for i_subplot in range(1, 5):\n",
    "    plt.subplot(1, 4, i_subplot)\n",
    "    i = np.random.randint(len(test_x))\n",
    "    plt.imshow(test_imgs[i].T, cmap='Greys', interpolation='none', origin='lower', extent=[0, img_size, 0, img_size])\n",
    "    for pred_bbox, exp_bbox in zip(pred_bboxes[i], test_bboxes[i]):\n",
    "        plt.gca().add_patch(matplotlib.patches.Rectangle((pred_bbox[0], pred_bbox[1]), pred_bbox[2], pred_bbox[3], ec='r', fc='none'))\n",
    "        # TODO: Calculate max IOU with all expected bounding boxes.\n",
    "#         plt.annotate('IOU: {:.2f}'.format(IOU(pred_bbox, exp_bbox)), (pred_bbox[0], pred_bbox[1]+pred_bbox[3]+0.4), color='r')"
   ]
  },
  {
   "cell_type": "code",
   "execution_count": null,
   "metadata": {},
   "outputs": [],
   "source": []
  }
 ],
 "metadata": {
  "kernelspec": {
   "display_name": "tensorflow",
   "language": "python",
   "name": "tensorflow"
  },
  "language_info": {
   "codemirror_mode": {
    "name": "ipython",
    "version": 3
   },
   "file_extension": ".py",
   "mimetype": "text/x-python",
   "name": "python",
   "nbconvert_exporter": "python",
   "pygments_lexer": "ipython3",
   "version": "3.8.5"
  }
 },
 "nbformat": 4,
 "nbformat_minor": 4
}

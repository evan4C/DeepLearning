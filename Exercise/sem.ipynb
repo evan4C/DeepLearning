{
 "cells": [
  {
   "cell_type": "markdown",
   "metadata": {},
   "source": [
    "SEM img program design"
   ]
  },
  {
   "cell_type": "code",
   "execution_count": 2,
   "metadata": {},
   "outputs": [],
   "source": [
    "import numpy as np\n",
    "import matplotlib.pyplot as plt\n"
   ]
  },
  {
   "cell_type": "code",
   "execution_count": 3,
   "metadata": {},
   "outputs": [],
   "source": [
    "num_train = 50\n",
    "num_val = 10\n",
    "\n",
    "img_size = 100\n",
    "num_fiber = 1\n",
    "\n",
    "\n",
    "train_data = np.zeros((num_train, img_size, img_size, 1))\n",
    "train_label = np.zeros((num_train, num_fiber, 11))\n",
    "\n",
    "val_data = np.zeros((num_val, img_size, img_size, 1))\n",
    "val_label = np.zeros((num_val, num_fiber, 11))"
   ]
  },
  {
   "cell_type": "code",
   "execution_count": null,
   "metadata": {},
   "outputs": [],
   "source": [
    "import pathlib\n",
    "\n",
    "base_dir = pathlib.Path('./data')\n",
    "image_count = len(list(data_dir.glob('*/*.jpg')))\n",
    "image_count"
   ]
  },
  {
   "cell_type": "code",
   "execution_count": null,
   "metadata": {},
   "outputs": [],
   "source": [
    "# make train_label\n",
    "import csv\n",
    "\n",
    "for i in file_list:\n",
    "    data = list()\n",
    "    with open(i, 'r') as f:\n",
    "        for line in open('poem.txt'):  \n",
    "            line = f.readline()\n",
    "            result.append(line)\n",
    "    \n",
    "    with open(fname,'ab') as f:\n",
    "        f.write(data)\n",
    "\n"
   ]
  },
  {
   "cell_type": "code",
   "execution_count": null,
   "metadata": {},
   "outputs": [],
   "source": [
    "import csv\n",
    "\n",
    "# 头数据\n",
    "fileHeader = [\"name\", \"score\"]\n",
    "\n",
    "# 内容数据\n",
    "d1 = [\"Wang\", \"100\"]\n",
    "d2 = [\"Li\", \"80\"]\n",
    "\n",
    "# 写入数据\n",
    "csvFile = open(\"instance.csv\", \"w\")\n",
    "writer = csv.writer(csvFile)\n",
    "\n",
    "# 分批写入\n",
    "writer.writerow(fileHeader)\n",
    "writer.writerow(d1)\n",
    "writer.writerow(d2)\n",
    "\n",
    "# 一次写入\n",
    "writer.writerows([fileHeader, d1, d2])\n",
    "\n",
    "csvFile.close()"
   ]
  },
  {
   "cell_type": "code",
   "execution_count": null,
   "metadata": {},
   "outputs": [],
   "source": [
    "plt.figure(figsize=(10, 10))\n",
    "for images, labels in train_ds.take(1):\n",
    "  for i in range(9):\n",
    "    ax = plt.subplot(3, 3, i + 1)\n",
    "    plt.imshow(images[i].numpy().astype(\"uint8\"))\n",
    "    plt.title(class_names[labels[i]])\n",
    "    plt.axis(\"off\")"
   ]
  },
  {
   "cell_type": "code",
   "execution_count": null,
   "metadata": {},
   "outputs": [],
   "source": [
    "batch_size = 1\n",
    "epochs = 50"
   ]
  }
 ],
 "metadata": {
  "kernelspec": {
   "display_name": "tensorflow",
   "language": "python",
   "name": "tensorflow"
  },
  "language_info": {
   "codemirror_mode": {
    "name": "ipython",
    "version": 3
   },
   "file_extension": ".py",
   "mimetype": "text/x-python",
   "name": "python",
   "nbconvert_exporter": "python",
   "pygments_lexer": "ipython3",
   "version": "3.8.5"
  }
 },
 "nbformat": 4,
 "nbformat_minor": 4
}

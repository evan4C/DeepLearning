{
 "cells": [
  {
   "cell_type": "code",
   "execution_count": 1,
   "metadata": {},
   "outputs": [],
   "source": [
    "import numpy as np\n",
    "import matplotlib.pyplot as plt\n",
    "import matplotlib\n",
    "%matplotlib inline"
   ]
  },
  {
   "cell_type": "code",
   "execution_count": 4,
   "metadata": {},
   "outputs": [
    {
     "data": {
      "text/plain": [
       "((50000, 8, 8), (50000, 3, 4))"
      ]
     },
     "execution_count": 4,
     "metadata": {},
     "output_type": "execute_result"
    }
   ],
   "source": [
    "num_imgs = 50000\n",
    "\n",
    "img_size = 8\n",
    "min_rect_size = 1\n",
    "max_rect_size = 4\n",
    "num_objects = 3\n",
    "\n",
    "bboxes = np.zeros((num_imgs, num_objects, 4))\n",
    "imgs = np.zeros((num_imgs, img_size, img_size))\n",
    "\n",
    "for i_img in range(num_imgs):\n",
    "    for i_object in range(num_objects):\n",
    "        width, height = np.random.randint(min_rect_size, max_rect_size, size=2)\n",
    "        x = np.random.randint(0, img_size - width)\n",
    "        y = np.random.randint(0, img_size - height)\n",
    "        imgs[i_img, x:x+width, y:y+height] = 1.\n",
    "        bboxes[i_img, i_object] = [x, y, width, height]\n",
    "\n",
    "imgs.shape, bboxes.shape"
   ]
  },
  {
   "cell_type": "code",
   "execution_count": 6,
   "metadata": {},
   "outputs": [
    {
     "data": {
      "image/png": "[encoded data removed]",
      "text/plain": [
       "<Figure size 432x288 with 1 Axes>"
      ]
     },
     "metadata": {
      "needs_background": "light"
     },
     "output_type": "display_data"
    }
   ],
   "source": [
    "i = 5\n",
    "plt.imshow(imgs[i].T, cmap='Greys', interpolation='none', origin='lower', \n",
    "           extent=[0, img_size, 0, img_size])\n",
    "\n",
    "for bbox in bboxes[i]:\n",
    "    plt.gca().add_patch(matplotlib.patches.Rectangle((bbox[0], bbox[1]), bbox[2],\n",
    "                                                    bbox[3], ec='r', fc='none'))"
   ]
  },
  {
   "cell_type": "code",
   "execution_count": 7,
   "metadata": {},
   "outputs": [
    {
     "data": {
      "text/plain": [
       "((50000, 64), -3.201217069204176e-17, 0.9999999999999992)"
      ]
     },
     "execution_count": 7,
     "metadata": {},
     "output_type": "execute_result"
    }
   ],
   "source": [
    "X = (imgs.reshape(num_imgs, -1) - np.mean(imgs)) / np.std(imgs)\n",
    "X.shape, np.mean(X), np.std(X)"
   ]
  },
  {
   "cell_type": "code",
   "execution_count": 8,
   "metadata": {},
   "outputs": [
    {
     "data": {
      "text/plain": [
       "(50000, 12)"
      ]
     },
     "execution_count": 8,
     "metadata": {},
     "output_type": "execute_result"
    }
   ],
   "source": [
    "y = bboxes.reshape(num_imgs, -1) / img_size\n",
    "y.shape"
   ]
  },
  {
   "cell_type": "code",
   "execution_count": 9,
   "metadata": {},
   "outputs": [],
   "source": [
    "i = int(0.8 * num_imgs)\n",
    "train_x = X[:i]\n",
    "test_x = X[i:]\n",
    "train_y = y[:i]\n",
    "test_y = y[i:]\n",
    "\n",
    "test_imgs = imgs[i:]\n",
    "test_bboxes = bboxes[i:]"
   ]
  },
  {
   "cell_type": "code",
   "execution_count": 10,
   "metadata": {},
   "outputs": [],
   "source": [
    "from keras.models import Sequential\n",
    "from keras.layers import Dense, Activation, Dropout\n",
    "from keras.optimizers import SGD\n",
    "model = Sequential([\n",
    "        Dense(256, input_dim=X.shape[-1]), \n",
    "        Activation('relu'), \n",
    "        Dropout(0.4), \n",
    "        Dense(y.shape[-1])\n",
    "    ])\n",
    "model.compile('adadelta', 'mse')"
   ]
  },
  {
   "cell_type": "code",
   "execution_count": 13,
   "metadata": {},
   "outputs": [
    {
     "name": "stdout",
     "output_type": "stream",
     "text": [
      "Epoch 0\n",
      "1250/1250 - 1s - loss: 0.5708 - val_loss: 0.2906\n",
      "Flipped 66.44 % of all elements\n",
      "Mean IOU: 0.00936892228783848\n",
      "Mean dist: 0.5848325588577341\n",
      "Mean mse: 0.2537499398163557\n",
      "\n",
      "Epoch 1\n",
      "1250/1250 - 1s - loss: 0.4672 - val_loss: 0.2442\n",
      "Flipped 10.61 % of all elements\n",
      "Mean IOU: 0.012582011846534936\n",
      "Mean dist: 0.5427027916398318\n",
      "Mean mse: 0.2099323006977509\n",
      "\n",
      "Epoch 2\n",
      "1250/1250 - 1s - loss: 0.4235 - val_loss: 0.2128\n",
      "Flipped 9.524166666666666 % of all elements\n",
      "Mean IOU: 0.016015291958074666\n",
      "Mean dist: 0.5097856904469555\n",
      "Mean mse: 0.18054694239506608\n",
      "\n",
      "Epoch 3\n",
      "1250/1250 - 1s - loss: 0.3937 - val_loss: 0.1908\n",
      "Flipped 8.001666666666669 % of all elements\n",
      "Mean IOU: 0.019376004069157505\n",
      "Mean dist: 0.4842319205549248\n",
      "Mean mse: 0.1602418468566183\n",
      "\n",
      "Epoch 4\n",
      "1250/1250 - 1s - loss: 0.3670 - val_loss: 0.1745\n",
      "Flipped 6.550000000000001 % of all elements\n",
      "Mean IOU: 0.022595744805223843\n",
      "Mean dist: 0.463550490712573\n",
      "Mean mse: 0.1453356381703603\n",
      "\n",
      "Epoch 5\n",
      "1250/1250 - 1s - loss: 0.3466 - val_loss: 0.1616\n",
      "Flipped 5.569166666666668 % of all elements\n",
      "Mean IOU: 0.025440680063620814\n",
      "Mean dist: 0.4459148098221005\n",
      "Mean mse: 0.133558275071267\n",
      "\n",
      "Epoch 6\n",
      "1250/1250 - 1s - loss: 0.3287 - val_loss: 0.1509\n",
      "Flipped 4.800000000000001 % of all elements\n",
      "Mean IOU: 0.02816471539699885\n",
      "Mean dist: 0.43064190335791036\n",
      "Mean mse: 0.12390676229106534\n",
      "\n",
      "Epoch 7\n",
      "1250/1250 - 1s - loss: 0.3140 - val_loss: 0.1418\n",
      "Flipped 4.32 % of all elements\n",
      "Mean IOU: 0.030852238325480022\n",
      "Mean dist: 0.41703148528535294\n",
      "Mean mse: 0.11575110422455605\n",
      "\n",
      "Epoch 8\n",
      "1250/1250 - 1s - loss: 0.3003 - val_loss: 0.1339\n",
      "Flipped 3.6275000000000004 % of all elements\n",
      "Mean IOU: 0.033494558072836654\n",
      "Mean dist: 0.404883998513052\n",
      "Mean mse: 0.10866923687191836\n",
      "\n",
      "Epoch 9\n",
      "1250/1250 - 1s - loss: 0.2880 - val_loss: 0.1271\n",
      "Flipped 3.4825000000000004 % of all elements\n",
      "Mean IOU: 0.03596449156180323\n",
      "Mean dist: 0.39404376827100684\n",
      "Mean mse: 0.10252597969577262\n",
      "\n",
      "Epoch 10\n",
      "1250/1250 - 1s - loss: 0.2757 - val_loss: 0.1209\n",
      "Flipped 3.3108333333333335 % of all elements\n",
      "Mean IOU: 0.03852113641657668\n",
      "Mean dist: 0.3840986017401511\n",
      "Mean mse: 0.09709067270545536\n",
      "\n",
      "Epoch 11\n",
      "1250/1250 - 1s - loss: 0.2647 - val_loss: 0.1155\n",
      "Flipped 3.1325 % of all elements\n",
      "Mean IOU: 0.04091325688633724\n",
      "Mean dist: 0.37496897396923234\n",
      "Mean mse: 0.09227619776331299\n",
      "\n",
      "Epoch 12\n",
      "1250/1250 - 1s - loss: 0.2550 - val_loss: 0.1106\n",
      "Flipped 3.081666666666667 % of all elements\n",
      "Mean IOU: 0.04334099795918565\n",
      "Mean dist: 0.3667951761930156\n",
      "Mean mse: 0.08795792016661057\n",
      "\n",
      "Epoch 13\n",
      "1250/1250 - 1s - loss: 0.2447 - val_loss: 0.1062\n",
      "Flipped 2.8975000000000004 % of all elements\n",
      "Mean IOU: 0.04558225287197367\n",
      "Mean dist: 0.35926532858905064\n",
      "Mean mse: 0.08410101165386412\n",
      "\n",
      "Epoch 14\n",
      "1250/1250 - 1s - loss: 0.2358 - val_loss: 0.1021\n",
      "Flipped 2.7525 % of all elements\n",
      "Mean IOU: 0.04783573579934933\n",
      "Mean dist: 0.3522821581169825\n",
      "Mean mse: 0.0805884845996224\n",
      "\n",
      "Epoch 15\n",
      "1250/1250 - 1s - loss: 0.2269 - val_loss: 0.0985\n",
      "Flipped 2.8225 % of all elements\n",
      "Mean IOU: 0.050017821276244066\n",
      "Mean dist: 0.34582027195350323\n",
      "Mean mse: 0.07740085975807472\n",
      "\n",
      "Epoch 16\n",
      "1250/1250 - 1s - loss: 0.2200 - val_loss: 0.0951\n",
      "Flipped 2.5749999999999997 % of all elements\n",
      "Mean IOU: 0.05203583556012988\n",
      "Mean dist: 0.3397375367493923\n",
      "Mean mse: 0.07448052676423297\n",
      "\n",
      "Epoch 17\n",
      "1250/1250 - 1s - loss: 0.2123 - val_loss: 0.0920\n",
      "Flipped 2.559166666666667 % of all elements\n",
      "Mean IOU: 0.0540450572544148\n",
      "Mean dist: 0.3343069683417649\n",
      "Mean mse: 0.07187971631137223\n",
      "\n",
      "Epoch 18\n",
      "1250/1250 - 1s - loss: 0.2047 - val_loss: 0.0892\n",
      "Flipped 2.4391666666666674 % of all elements\n",
      "Mean IOU: 0.05594113876373826\n",
      "Mean dist: 0.32915390707885533\n",
      "Mean mse: 0.06944122088456474\n",
      "\n",
      "Epoch 19\n",
      "1250/1250 - 1s - loss: 0.1984 - val_loss: 0.0866\n",
      "Flipped 2.461666666666667 % of all elements\n",
      "Mean IOU: 0.05789557925046671\n",
      "Mean dist: 0.324440728130075\n",
      "Mean mse: 0.06723393251609977\n",
      "\n",
      "Epoch 20\n",
      "1250/1250 - 1s - loss: 0.1919 - val_loss: 0.0841\n",
      "Flipped 2.3183333333333334 % of all elements\n",
      "Mean IOU: 0.059822464013135505\n",
      "Mean dist: 0.3199876325985686\n",
      "Mean mse: 0.06516472716790123\n",
      "\n",
      "Epoch 21\n",
      "1250/1250 - 1s - loss: 0.1858 - val_loss: 0.0819\n",
      "Flipped 2.256666666666667 % of all elements\n",
      "Mean IOU: 0.06174764138078731\n",
      "Mean dist: 0.31569830101837104\n",
      "Mean mse: 0.06321511366469457\n",
      "\n",
      "Epoch 22\n",
      "1250/1250 - 1s - loss: 0.1798 - val_loss: 0.0797\n",
      "Flipped 2.225 % of all elements\n",
      "Mean IOU: 0.06361425596640632\n",
      "Mean dist: 0.311802127249122\n",
      "Mean mse: 0.06138938892841939\n",
      "\n",
      "Epoch 23\n",
      "1250/1250 - 1s - loss: 0.1744 - val_loss: 0.0777\n",
      "Flipped 2.138333333333333 % of all elements\n",
      "Mean IOU: 0.0653300652208587\n",
      "Mean dist: 0.3081648280742943\n",
      "Mean mse: 0.05973416198233571\n",
      "\n",
      "Epoch 24\n",
      "1250/1250 - 1s - loss: 0.1696 - val_loss: 0.0758\n",
      "Flipped 2.2058333333333335 % of all elements\n",
      "Mean IOU: 0.06717516250917151\n",
      "Mean dist: 0.30452249640897244\n",
      "Mean mse: 0.05811444366168245\n",
      "\n",
      "Epoch 25\n",
      "1250/1250 - 1s - loss: 0.1636 - val_loss: 0.0741\n",
      "Flipped 2.1400000000000006 % of all elements\n",
      "Mean IOU: 0.06892859347300855\n",
      "Mean dist: 0.30109886770211164\n",
      "Mean mse: 0.05662707073067877\n",
      "\n",
      "Epoch 26\n",
      "1250/1250 - 1s - loss: 0.1595 - val_loss: 0.0724\n",
      "Flipped 2.1333333333333337 % of all elements\n",
      "Mean IOU: 0.07074363866608774\n",
      "Mean dist: 0.297762645087508\n",
      "Mean mse: 0.055185593432543555\n",
      "\n",
      "Epoch 27\n",
      "1250/1250 - 1s - loss: 0.1546 - val_loss: 0.0708\n",
      "Flipped 2.040833333333334 % of all elements\n",
      "Mean IOU: 0.07235798918194733\n",
      "Mean dist: 0.29489848093965404\n",
      "Mean mse: 0.0538978636198941\n",
      "\n",
      "Epoch 28\n",
      "1250/1250 - 1s - loss: 0.1495 - val_loss: 0.0693\n",
      "Flipped 1.9300000000000002 % of all elements\n",
      "Mean IOU: 0.07391297487591686\n",
      "Mean dist: 0.29195883001628653\n",
      "Mean mse: 0.052650477963475384\n",
      "\n",
      "Epoch 29\n",
      "1250/1250 - 1s - loss: 0.1455 - val_loss: 0.0679\n",
      "Flipped 1.9933333333333334 % of all elements\n",
      "Mean IOU: 0.0755689663361746\n",
      "Mean dist: 0.2892503480903733\n",
      "Mean mse: 0.05147606132289161\n",
      "\n",
      "Epoch 30\n",
      "1250/1250 - 1s - loss: 0.1417 - val_loss: 0.0665\n",
      "Flipped 1.9766666666666668 % of all elements\n",
      "Mean IOU: 0.07708632342218878\n",
      "Mean dist: 0.2867078968995298\n",
      "Mean mse: 0.05036215535804317\n",
      "\n",
      "Epoch 31\n",
      "1250/1250 - 1s - loss: 0.1374 - val_loss: 0.0653\n",
      "Flipped 1.81 % of all elements\n",
      "Mean IOU: 0.07868513574592775\n",
      "Mean dist: 0.2843092584468462\n",
      "Mean mse: 0.04933032170692342\n",
      "\n",
      "Epoch 32\n",
      "1250/1250 - 1s - loss: 0.1341 - val_loss: 0.0640\n",
      "Flipped 1.8083333333333333 % of all elements\n",
      "Mean IOU: 0.0802367841429314\n",
      "Mean dist: 0.2819512967063798\n",
      "Mean mse: 0.048329859249376286\n",
      "\n",
      "Epoch 33\n",
      "1250/1250 - 1s - loss: 0.1302 - val_loss: 0.0629\n",
      "Flipped 1.7833333333333332 % of all elements\n",
      "Mean IOU: 0.08174603359264988\n",
      "Mean dist: 0.27966762693229447\n",
      "Mean mse: 0.04735218130701158\n",
      "\n",
      "Epoch 34\n",
      "1250/1250 - 1s - loss: 0.1268 - val_loss: 0.0618\n",
      "Flipped 1.7833333333333332 % of all elements\n",
      "Mean IOU: 0.08323375270295186\n",
      "Mean dist: 0.27744293079956944\n",
      "Mean mse: 0.04642649829614439\n",
      "\n",
      "Epoch 35\n",
      "1250/1250 - 1s - loss: 0.1234 - val_loss: 0.0607\n",
      "Flipped 1.7274999999999998 % of all elements\n",
      "Mean IOU: 0.08465431063959225\n",
      "Mean dist: 0.27544065664953954\n",
      "Mean mse: 0.04558318356424961\n",
      "\n",
      "Epoch 36\n",
      "1250/1250 - 1s - loss: 0.1203 - val_loss: 0.0597\n",
      "Flipped 1.824166666666667 % of all elements\n",
      "Mean IOU: 0.08599691196520785\n",
      "Mean dist: 0.2735297239806833\n",
      "Mean mse: 0.04477419090801968\n",
      "\n",
      "Epoch 37\n",
      "1250/1250 - 1s - loss: 0.1168 - val_loss: 0.0587\n",
      "Flipped 1.7458333333333336 % of all elements\n",
      "Mean IOU: 0.08741125276291016\n",
      "Mean dist: 0.2716976119088936\n",
      "Mean mse: 0.04400065612644209\n",
      "\n",
      "Epoch 38\n",
      "1250/1250 - 1s - loss: 0.1144 - val_loss: 0.0578\n",
      "Flipped 1.761666666666667 % of all elements\n",
      "Mean IOU: 0.08869929403475048\n",
      "Mean dist: 0.2698812105308866\n",
      "Mean mse: 0.04323980287558592\n",
      "\n",
      "Epoch 39\n",
      "1250/1250 - 1s - loss: 0.1113 - val_loss: 0.0569\n",
      "Flipped 1.6616666666666668 % of all elements\n",
      "Mean IOU: 0.09008171023838676\n",
      "Mean dist: 0.26822313392737557\n",
      "Mean mse: 0.04252776795409618\n",
      "\n",
      "Epoch 40\n",
      "1250/1250 - 1s - loss: 0.1082 - val_loss: 0.0560\n",
      "Flipped 1.6824999999999999 % of all elements\n",
      "Mean IOU: 0.09116440463993483\n",
      "Mean dist: 0.26662885501943984\n",
      "Mean mse: 0.04184257056894865\n",
      "\n",
      "Epoch 41\n",
      "1250/1250 - 1s - loss: 0.1060 - val_loss: 0.0552\n",
      "Flipped 1.6775000000000002 % of all elements\n",
      "Mean IOU: 0.0923739963805432\n",
      "Mean dist: 0.2650751206164421\n",
      "Mean mse: 0.041185245657293236\n",
      "\n",
      "Epoch 42\n",
      "1250/1250 - 1s - loss: 0.1032 - val_loss: 0.0544\n",
      "Flipped 1.614166666666667 % of all elements\n",
      "Mean IOU: 0.09355440912144383\n",
      "Mean dist: 0.26362982389042916\n",
      "Mean mse: 0.0405529177261115\n",
      "\n",
      "Epoch 43\n",
      "1250/1250 - 1s - loss: 0.1009 - val_loss: 0.0536\n",
      "Flipped 1.5975000000000004 % of all elements\n",
      "Mean IOU: 0.09467709206084489\n",
      "Mean dist: 0.2622419021645442\n",
      "Mean mse: 0.039949589818030325\n",
      "\n",
      "Epoch 44\n",
      "1250/1250 - 1s - loss: 0.0986 - val_loss: 0.0529\n",
      "Flipped 1.5308333333333333 % of all elements\n",
      "Mean IOU: 0.09585355991508554\n",
      "Mean dist: 0.26077609457894946\n",
      "Mean mse: 0.03933886843282953\n",
      "\n",
      "Epoch 45\n",
      "1250/1250 - 1s - loss: 0.0961 - val_loss: 0.0522\n",
      "Flipped 1.531666666666667 % of all elements\n",
      "Mean IOU: 0.09702806174174769\n",
      "Mean dist: 0.25943741164198636\n",
      "Mean mse: 0.03878281541444078\n",
      "\n",
      "Epoch 46\n",
      "1250/1250 - 1s - loss: 0.0940 - val_loss: 0.0515\n",
      "Flipped 1.5391666666666668 % of all elements\n",
      "Mean IOU: 0.09821999226159858\n",
      "Mean dist: 0.25816082929292394\n",
      "Mean mse: 0.03822806479726246\n",
      "\n",
      "Epoch 47\n",
      "1250/1250 - 1s - loss: 0.0917 - val_loss: 0.0509\n",
      "Flipped 1.5666666666666669 % of all elements\n",
      "Mean IOU: 0.09919137165400248\n",
      "Mean dist: 0.25689087090835555\n",
      "Mean mse: 0.037708831604783465\n",
      "\n",
      "Epoch 48\n",
      "1250/1250 - 1s - loss: 0.0899 - val_loss: 0.0502\n",
      "Flipped 1.569166666666667 % of all elements\n",
      "Mean IOU: 0.10029659376480463\n",
      "Mean dist: 0.25573119699983143\n",
      "Mean mse: 0.037212711744105176\n",
      "\n",
      "Epoch 49\n",
      "1250/1250 - 1s - loss: 0.0877 - val_loss: 0.0496\n",
      "Flipped 1.5375000000000003 % of all elements\n",
      "Mean IOU: 0.10136551260195309\n",
      "Mean dist: 0.2545495536057106\n",
      "Mean mse: 0.0367297178026049\n",
      "\n"
     ]
    }
   ],
   "source": [
    "# Flip bboxes during training.\n",
    "\n",
    "def IOU(bbox1, bbox2):\n",
    "    '''Calculate overlap between two bounding boxes [x, y, w, h] as the area of intersection over the area of unity'''\n",
    "    x1, y1, w1, h1 = bbox1[0], bbox1[1], bbox1[2], bbox1[3]  # TODO: Check if its more performant if tensor elements are accessed directly below.\n",
    "    x2, y2, w2, h2 = bbox2[0], bbox2[1], bbox2[2], bbox2[3]\n",
    "\n",
    "    w_I = min(x1 + w1, x2 + w2) - max(x1, x2)\n",
    "    h_I = min(y1 + h1, y2 + h2) - max(y1, y2)\n",
    "    if w_I <= 0 or h_I <= 0:  # no overlap\n",
    "        return 0\n",
    "    I = w_I * h_I\n",
    "\n",
    "    U = w1 * h1 + w2 * h2 - I\n",
    "\n",
    "    return I / U\n",
    "\n",
    "def distance(bbox1, bbox2):\n",
    "    return np.sqrt(np.sum(np.square(bbox1[:2] - bbox2[:2])))\n",
    "\n",
    "num_epochs = 50\n",
    "flipped_train_y = np.array(train_y)\n",
    "flipped = np.zeros((len(flipped_train_y), num_epochs))\n",
    "ious_epoch = np.zeros((len(flipped_train_y), num_epochs))\n",
    "dists_epoch = np.zeros((len(flipped_train_y), num_epochs))\n",
    "mses_epoch = np.zeros((len(flipped_train_y), num_epochs))\n",
    "\n",
    "for epoch in range(num_epochs):\n",
    "    print ('Epoch', epoch)\n",
    "    model.fit(train_x, flipped_train_y, epochs=1, validation_data=(test_x, test_y), verbose=2)\n",
    "    pred_y = model.predict(train_x)\n",
    "\n",
    "    for sample, (pred_bboxes, exp_bboxes) in enumerate(zip(pred_y, flipped_train_y)):\n",
    "        \n",
    "        pred_bboxes = pred_bboxes.reshape(num_objects, -1)\n",
    "        exp_bboxes = exp_bboxes.reshape(num_objects, -1)\n",
    "\n",
    "        ious = np.zeros((num_objects, num_objects))\n",
    "        dists = np.zeros((num_objects, num_objects))\n",
    "        mses = np.zeros((num_objects, num_objects))\n",
    "        for i, exp_bbox in enumerate(exp_bboxes):\n",
    "            for j, pred_bbox in enumerate(pred_bboxes):\n",
    "                ious[i, j] = IOU(exp_bbox, pred_bbox)\n",
    "                dists[i, j] = distance(exp_bbox, pred_bbox)\n",
    "                mses[i, j] = np.mean(np.square(exp_bbox - pred_bbox))\n",
    "                \n",
    "        new_order = np.zeros(num_objects, dtype=int)\n",
    "        \n",
    "        for i in range(num_objects):\n",
    "            # Find pred and exp bbox with minimum mse and assign them to each other (i.e. switch the positions of the exp bboxes in y).\n",
    "            ind_exp_bbox, ind_pred_bbox = np.unravel_index(mses.argmin(), mses.shape)\n",
    "            ious_epoch[sample, epoch] += ious[ind_exp_bbox, ind_pred_bbox]\n",
    "            dists_epoch[sample, epoch] += dists[ind_exp_bbox, ind_pred_bbox]\n",
    "            mses_epoch[sample, epoch] += mses[ind_exp_bbox, ind_pred_bbox]\n",
    "            mses[ind_exp_bbox] = 10000000#-1  # set mse of assigned bboxes to a large number, so they don't get assigned again\n",
    "            mses[:, ind_pred_bbox] = 10000000#-1\n",
    "            new_order[ind_pred_bbox] = ind_exp_bbox\n",
    "        \n",
    "        # Write flipped bboxes to training data.\n",
    "        flipped_train_y[sample] = exp_bboxes[new_order].flatten()\n",
    "        \n",
    "        flipped[sample, epoch] = 1. - np.mean(new_order == np.arange(num_objects, dtype=int))#np.array_equal(new_order, np.arange(num_objects, dtype=int))  # TODO: Change this to reflect the number of flips.\n",
    "        ious_epoch[sample, epoch] /= num_objects\n",
    "        dists_epoch[sample, epoch] /= num_objects\n",
    "        mses_epoch[sample, epoch] /= num_objects\n",
    "        \n",
    "            \n",
    "    print ('Flipped {} % of all elements'.format(np.mean(flipped[:, epoch]) * 100.))\n",
    "    print ('Mean IOU: {}'.format(np.mean(ious_epoch[:, epoch])))\n",
    "    print ('Mean dist: {}'.format(np.mean(dists_epoch[:, epoch])))\n",
    "    print ('Mean mse: {}'.format(np.mean(mses_epoch[:, epoch])))\n",
    "    print ()"
   ]
  },
  {
   "cell_type": "code",
   "execution_count": 14,
   "metadata": {},
   "outputs": [
    {
     "data": {
      "text/plain": [
       "Text(0, 0.5, 'Training sample')"
      ]
     },
     "execution_count": 14,
     "metadata": {},
     "output_type": "execute_result"
    },
    {
     "data": {
      "image/png": "[encoded data removed]",
      "text/plain": [
       "<Figure size 432x288 with 1 Axes>"
      ]
     },
     "metadata": {
      "needs_background": "light"
     },
     "output_type": "display_data"
    }
   ],
   "source": [
    "# Show flippings for a few training samples.\n",
    "plt.pcolor(flipped[:300], cmap='Greys', vmax=1.)\n",
    "plt.xlabel('Epoch')\n",
    "plt.ylabel('Training sample')"
   ]
  },
  {
   "cell_type": "code",
   "execution_count": 16,
   "metadata": {},
   "outputs": [
    {
     "data": {
      "text/plain": [
       "(0.0, 1.0)"
      ]
     },
     "execution_count": 16,
     "metadata": {},
     "output_type": "execute_result"
    },
    {
     "data": {
      "image/png": "[encoded data removed]",
      "text/plain": [
       "<Figure size 432x288 with 1 Axes>"
      ]
     },
     "metadata": {
      "needs_background": "light"
     },
     "output_type": "display_data"
    }
   ],
   "source": [
    "# Plot metrics on the training data. \n",
    "mean_ious_epoch = np.mean(ious_epoch, axis=0)\n",
    "mean_dists_epoch = np.mean(dists_epoch, axis=0)\n",
    "mean_mses_epoch = np.mean(mses_epoch, axis=0)\n",
    "plt.plot(mean_ious_epoch, label='Mean IOU')  # between predicted and assigned true bboxes\n",
    "plt.plot(mean_dists_epoch, label='Mean distance')  # relative to image size\n",
    "plt.plot(mean_mses_epoch, label='Mean mse')\n",
    "plt.annotate(np.round(np.max(mean_ious_epoch), 3), (len(mean_ious_epoch)-1, mean_ious_epoch[-1]+0.03), horizontalalignment='right', color='b')\n",
    "plt.annotate(np.round(np.min(mean_dists_epoch), 3), (len(mean_dists_epoch)-1, mean_dists_epoch[-1]+0.03), horizontalalignment='right', color='g')\n",
    "plt.annotate(np.round(np.min(mean_mses_epoch), 3), (len(mean_mses_epoch)-1, mean_mses_epoch[-1]+0.03), horizontalalignment='right', color='r')\n",
    "plt.xlabel('Epoch')\n",
    "plt.legend()\n",
    "plt.ylim(0, 1)\n",
    "\n",
    "# plt.savefig('plots/bw-three-rectangles-50k.png', dpi=300)"
   ]
  },
  {
   "cell_type": "code",
   "execution_count": 17,
   "metadata": {},
   "outputs": [
    {
     "data": {
      "text/plain": [
       "(10000, 3, 4)"
      ]
     },
     "execution_count": 17,
     "metadata": {},
     "output_type": "execute_result"
    }
   ],
   "source": [
    "pred_y = model.predict(test_x)\n",
    "pred_bboxes = pred_y * img_size\n",
    "pred_bboxes = pred_bboxes.reshape(len(pred_bboxes), num_objects, -1)\n",
    "pred_bboxes.shape"
   ]
  },
  {
   "cell_type": "code",
   "execution_count": 18,
   "metadata": {},
   "outputs": [
    {
     "data": {
      "image/png": "[encoded data removed]",
      "text/plain": [
       "<Figure size 864x216 with 4 Axes>"
      ]
     },
     "metadata": {
      "needs_background": "light"
     },
     "output_type": "display_data"
    }
   ],
   "source": [
    "plt.figure(figsize=(12, 3))\n",
    "for i_subplot in range(1, 5):\n",
    "    plt.subplot(1, 4, i_subplot)\n",
    "    i = np.random.randint(len(test_x))\n",
    "    plt.imshow(test_imgs[i].T, cmap='Greys', interpolation='none', origin='lower', extent=[0, img_size, 0, img_size])\n",
    "    for pred_bbox, exp_bbox in zip(pred_bboxes[i], test_bboxes[i]):\n",
    "        plt.gca().add_patch(matplotlib.patches.Rectangle((pred_bbox[0], pred_bbox[1]), pred_bbox[2], pred_bbox[3], ec='r', fc='none'))\n",
    "        # TODO: Calculate max IOU with all expected bounding boxes.\n",
    "#         plt.annotate('IOU: {:.2f}'.format(IOU(pred_bbox, exp_bbox)), (pred_bbox[0], pred_bbox[1]+pred_bbox[3]+0.4), color='r')"
   ]
  },
  {
   "cell_type": "code",
   "execution_count": null,
   "metadata": {},
   "outputs": [],
   "source": []
  }
 ],
 "metadata": {
  "kernelspec": {
   "display_name": "tensorflow",
   "language": "python",
   "name": "tensorflow"
  },
  "language_info": {
   "codemirror_mode": {
    "name": "ipython",
    "version": 3
   },
   "file_extension": ".py",
   "mimetype": "text/x-python",
   "name": "python",
   "nbconvert_exporter": "python",
   "pygments_lexer": "ipython3",
   "version": "3.8.5"
  }
 },
 "nbformat": 4,
 "nbformat_minor": 4
}
